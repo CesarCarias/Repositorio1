{
 "cells": [
  {
   "cell_type": "markdown",
   "metadata": {},
   "source": [
    "# CLASE 1 DE PYTHON\n",
    "\n",
    "### Fundamentos \n",
    "* Variables\n",
    "* Sintaxis basica\n",
    "* Condicionales\n",
    "* Operadores de comparacion\n",
    "* Operadores logicos"
   ]
  },
  {
   "cell_type": "code",
   "execution_count": 2,
   "metadata": {},
   "outputs": [
    {
     "name": "stdout",
     "output_type": "stream",
     "text": [
      "25\n",
      "21\n",
      "68\n",
      "0\n",
      "4.0\n"
     ]
    }
   ],
   "source": [
    "# Operaciones matematicas basicas\n",
    "# suma\n",
    "NumList = [2+23, 23-2, 34*2, 4%2, 8/2]\n",
    "for num in NumList:\n",
    "  print(num)"
   ]
  },
  {
   "cell_type": "code",
   "execution_count": 18,
   "metadata": {},
   "outputs": [
    {
     "name": "stdout",
     "output_type": "stream",
     "text": [
      "3 is <class 'int'>\n"
     ]
    }
   ],
   "source": [
    "# Variables\n",
    "number_a = int(input(\"Ingrese un numero a\"))\n",
    "number_b = int(input(\"Ingrese un numero b\"))\n",
    "result = number_a + number_b\n",
    "print(f\"{result} is {type(result)}\")"
   ]
  },
  {
   "cell_type": "markdown",
   "metadata": {},
   "source": [
    "### Estructuras de control\n",
    "* Condicionales\n",
    "    - Simples\n",
    "    - Anidados\n",
    "    - Encadenados\n",
    "* Ciclos finitos\n",
    "* Ciclos infinitos\n",
    "* Funciones"
   ]
  },
  {
   "cell_type": "markdown",
   "metadata": {},
   "source": [
    "### Operadores de comparacion\n",
    "- \">\" mayor que\n",
    "- \"<\" menor que\n",
    "- \"==\" igual que\n",
    "- \">=\" mayor o igual que\n",
    "- \"<=\" menor o igual que\n",
    "- \"!=\" diferente a "
   ]
  },
  {
   "cell_type": "code",
   "execution_count": 24,
   "metadata": {},
   "outputs": [
    {
     "name": "stdout",
     "output_type": "stream",
     "text": [
      "0 Es menor a 1\n"
     ]
    }
   ],
   "source": [
    "# condicionales\n",
    "number_a = int(input(\"ingrese un numero a\"))\n",
    "if number_a > 1:\n",
    "    print(f\"{number_a} Es mayor que 1\")\n",
    "elif number_a == 1:\n",
    "    print(f\"{number_a} Es igual a 1\")\n",
    "else:\n",
    "    print(f\"{number_a} Es menor a 1\")"
   ]
  },
  {
   "cell_type": "code",
   "execution_count": 31,
   "metadata": {},
   "outputs": [
    {
     "name": "stdout",
     "output_type": "stream",
     "text": [
      "Bienvenido a la escupidera de salty\n"
     ]
    }
   ],
   "source": [
    "# Condicionaes anidados\n",
    "# validar el ingreso a una discoteca\n",
    "# La disco esta abierta, viernes y sabado, a partir de las 20H\n",
    "# Solo pueden pasar los mayores de edad\n",
    "\n",
    "def verify_day(day):\n",
    "    if (day == 'viernes') or (day == 'sabado'):\n",
    "        return True\n",
    "    else:\n",
    "        return print(\"No abrimos hoy\")\n",
    "\n",
    "def verify_hour(hour):\n",
    "    if 25 > hour > 19:\n",
    "        return True\n",
    "    else:\n",
    "        return print(\"No esta dentro del rango horario\")\n",
    "    \n",
    "def verify_age(age):\n",
    "    if age > 17:\n",
    "        return True\n",
    "    else:\n",
    "        return print(\"No tiene edad suficiente\")\n",
    "    \n",
    "if verify_day(input(\"Que dia es hoy\").lower()) == True:\n",
    "    if verify_hour(int(input(\"Que dia es hoy\"))) == True:\n",
    "        if verify_age(int(input(\"cual es su edad\"))) == True:\n",
    "            print(\"Bienvenido a la escupidera de salty\")\n",
    "\n",
    "\n"
   ]
  },
  {
   "cell_type": "code",
   "execution_count": null,
   "metadata": {},
   "outputs": [],
   "source": [
    "name = input('Cual es su nombre?:').title()\n",
    "print(f'Hola {name}')\n",
    "\n",
    "week_day = input('En que dia deseas entrar a la discoteca?: ').lower().strip()\n",
    "time = int(input('A que hora quieres ingresar?: '))\n",
    "age = int(input('Cuantos años tiene: '))\n",
    "\n",
    "if (week_day == 'viernes' or week_day == 'sabado') and (time >= 20) and (age >= 18):\n",
    "    print(f'Bienvenido {name}')\n",
    "\n",
    "elif not (week_day == 'viernes' or week_day == 'sabado'):\n",
    "    print('Hoy la discoteca esta cerrada')\n",
    "\n",
    "elif not (time >= 20):\n",
    "    print(\"Aun no estamos abiertos\")\n",
    "\n",
    "elif not (age >= 18):\n",
    "    print(\"Fuera de aqui menor!\")"
   ]
  },
  {
   "cell_type": "code",
   "execution_count": null,
   "metadata": {},
   "outputs": [],
   "source": [
    "name = input('Cual es su nombre?:').title()\n",
    "print(f'Hola {name}')\n",
    "\n",
    "week_day = input('En que dia deseas entrar a la discoteca?: ').lower().strip()\n",
    "\n",
    "if (week_day == 'viernes') or (week_day == 'sabado'):\n",
    "    print(f'Muy bien, es {week_day}')\n",
    "    time = int(input('A que hora quieres ingresar?: '))\n",
    "\n",
    "    if 25 > time > 19:\n",
    "        print(f'Muy bien, esta en el rango horario indicado')\n",
    "        age = int(input('Cuantos años tiene: '))\n",
    "\n",
    "        if age >= 18:\n",
    "            print(f'Bienvenido {name}, pase adelante')\n",
    "\n",
    "        else:\n",
    "            print('No tiene suficiente edad')\n",
    "\n",
    "    else:\n",
    "        print('La discoteca esta cerrada')\n",
    "\n",
    "else:\n",
    "        print('La discoteca esta cerrada hoy')"
   ]
  }
 ],
 "metadata": {
  "kernelspec": {
   "display_name": "Python 3",
   "language": "python",
   "name": "python3"
  },
  "language_info": {
   "codemirror_mode": {
    "name": "ipython",
    "version": 3
   },
   "file_extension": ".py",
   "mimetype": "text/x-python",
   "name": "python",
   "nbconvert_exporter": "python",
   "pygments_lexer": "ipython3",
   "version": "3.12.1"
  }
 },
 "nbformat": 4,
 "nbformat_minor": 2
}
