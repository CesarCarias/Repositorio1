{
 "cells": [
  {
   "cell_type": "markdown",
   "metadata": {},
   "source": [
    "# CLASE 1 DE PYTHON\n",
    "\n",
    "### Fundamentos \n",
    "* Variables\n",
    "* Sintaxis basica\n",
    "* Condicionales\n",
    "* Operadores de comparacion\n",
    "* Operadores logicos"
   ]
  },
  {
   "cell_type": "code",
   "execution_count": 2,
   "metadata": {},
   "outputs": [
    {
     "name": "stdout",
     "output_type": "stream",
     "text": [
      "25\n",
      "21\n",
      "68\n",
      "0\n",
      "4.0\n"
     ]
    }
   ],
   "source": [
    "# Operaciones matematicas basicas\n",
    "# suma\n",
    "NumList = [2+23, 23-2, 34*2, 4%2, 8/2]\n",
    "for num in NumList:\n",
    "  print(num)"
   ]
  },
  {
   "cell_type": "code",
   "execution_count": 18,
   "metadata": {},
   "outputs": [
    {
     "name": "stdout",
     "output_type": "stream",
     "text": [
      "3 is <class 'int'>\n"
     ]
    }
   ],
   "source": [
    "# Variables\n",
    "number_a = int(input(\"Ingrese un numero a\"))\n",
    "number_b = int(input(\"Ingrese un numero b\"))\n",
    "result = number_a + number_b\n",
    "print(f\"{result} is {type(result)}\")"
   ]
  },
  {
   "cell_type": "markdown",
   "metadata": {},
   "source": [
    "### Estructuras de control\n",
    "* Condicionales\n",
    "    - Simples\n",
    "    - Anidados\n",
    "    - Encadenados\n",
    "* Ciclos finitos\n",
    "* Ciclos infinitos\n",
    "* Funciones"
   ]
  },
  {
   "cell_type": "markdown",
   "metadata": {},
   "source": [
    "### Operadores de comparacion\n",
    "- \">\" mayor que\n",
    "- \"<\" menor que\n",
    "- \"==\" igual que\n",
    "- \">=\" mayor o igual que\n",
    "- \"<=\" menor o igual que\n",
    "- \"!=\" diferente a "
   ]
  },
  {
   "cell_type": "code",
   "execution_count": 24,
   "metadata": {},
   "outputs": [
    {
     "name": "stdout",
     "output_type": "stream",
     "text": [
      "0 Es menor a 1\n"
     ]
    }
   ],
   "source": [
    "# condicionales\n",
    "number_a = int(input(\"ingrese un numero a\"))\n",
    "if number_a > 1:\n",
    "    print(f\"{number_a} Es mayor que 1\")\n",
    "elif number_a == 1:\n",
    "    print(f\"{number_a} Es igual a 1\")\n",
    "else:\n",
    "    print(f\"{number_a} Es menor a 1\")"
   ]
  }
 ],
 "metadata": {
  "kernelspec": {
   "display_name": "Python 3",
   "language": "python",
   "name": "python3"
  },
  "language_info": {
   "codemirror_mode": {
    "name": "ipython",
    "version": 3
   },
   "file_extension": ".py",
   "mimetype": "text/x-python",
   "name": "python",
   "nbconvert_exporter": "python",
   "pygments_lexer": "ipython3",
   "version": "3.12.1"
  }
 },
 "nbformat": 4,
 "nbformat_minor": 2
}
