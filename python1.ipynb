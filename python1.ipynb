{
 "cells": [
  {
   "cell_type": "markdown",
   "metadata": {},
   "source": [
    "# CLASE 1 DE PYTHON\n",
    "\n",
    "### Fundamentos \n",
    "* Variables\n",
    "* Sintaxis basica\n",
    "* Condicionales\n",
    "* Operadores de comparacion\n",
    "* Operadores logicos"
   ]
  },
  {
   "cell_type": "code",
   "execution_count": 2,
   "metadata": {},
   "outputs": [
    {
     "name": "stdout",
     "output_type": "stream",
     "text": [
      "25\n",
      "21\n",
      "68\n",
      "0\n",
      "4.0\n"
     ]
    }
   ],
   "source": [
    "# Operaciones matematicas basicas\n",
    "# suma\n",
    "NumList = [2+23, 23-2, 34*2, 4%2, 8/2]\n",
    "for num in NumList:\n",
    "  print(num)"
   ]
  },
  {
   "cell_type": "code",
   "execution_count": 18,
   "metadata": {},
   "outputs": [
    {
     "name": "stdout",
     "output_type": "stream",
     "text": [
      "3 is <class 'int'>\n"
     ]
    }
   ],
   "source": [
    "# Variables\n",
    "number_a = int(input(\"Ingrese un numero a\"))\n",
    "number_b = int(input(\"Ingrese un numero b\"))\n",
    "result = number_a + number_b\n",
    "print(f\"{result} is {type(result)}\")"
   ]
  },
  {
   "cell_type": "markdown",
   "metadata": {},
   "source": [
    "### Estructuras de control\n",
    "* Condicionales\n",
    "    - Simples\n",
    "    - Anidados\n",
    "    - Encadenados\n",
    "* Ciclos finitos\n",
    "* Ciclos infinitos\n",
    "* Funciones"
   ]
  },
  {
   "cell_type": "markdown",
   "metadata": {},
   "source": [
    "### Operadores de comparacion\n",
    "- \">\" mayor que\n",
    "- \"<\" menor que\n",
    "- \"==\" igual que\n",
    "- \">=\" mayor o igual que\n",
    "- \"<=\" menor o igual que\n",
    "- \"!=\" diferente a "
   ]
  },
  {
   "cell_type": "code",
   "execution_count": 24,
   "metadata": {},
   "outputs": [
    {
     "name": "stdout",
     "output_type": "stream",
     "text": [
      "0 Es menor a 1\n"
     ]
    }
   ],
   "source": [
    "# condicionales\n",
    "number_a = int(input(\"ingrese un numero a\"))\n",
    "if number_a > 1:\n",
    "    print(f\"{number_a} Es mayor que 1\")\n",
    "elif number_a == 1:\n",
    "    print(f\"{number_a} Es igual a 1\")\n",
    "else:\n",
    "    print(f\"{number_a} Es menor a 1\")"
   ]
  },
  {
   "cell_type": "code",
   "execution_count": 31,
   "metadata": {},
   "outputs": [
    {
     "name": "stdout",
     "output_type": "stream",
     "text": [
      "Bienvenido a la escupidera de salty\n"
     ]
    }
   ],
   "source": [
    "# Condicionaes anidados\n",
    "# validar el ingreso a una discoteca\n",
    "# La disco esta abierta, viernes y sabado, a partir de las 20H\n",
    "# Solo pueden pasar los mayores de edad\n",
    "\n",
    "def verify_day(day):\n",
    "    if (day == 'viernes') or (day == 'sabado'):\n",
    "        return True\n",
    "    else:\n",
    "        return print(\"No abrimos hoy\")\n",
    "\n",
    "def verify_hour(hour):\n",
    "    if 25 > hour > 19:\n",
    "        return True\n",
    "    else:\n",
    "        return print(\"No esta dentro del rango horario\")\n",
    "    \n",
    "def verify_age(age):\n",
    "    if age > 17:\n",
    "        return True\n",
    "    else:\n",
    "        return print(\"No tiene edad suficiente\")\n",
    "    \n",
    "if verify_day(input(\"Que dia es hoy\").lower()) == True:\n",
    "    if verify_hour(int(input(\"Que dia es hoy\"))) == True:\n",
    "        if verify_age(int(input(\"cual es su edad\"))) == True:\n",
    "            print(\"Bienvenido a la escupidera de salty\")\n",
    "\n",
    "\n"
   ]
  },
  {
   "cell_type": "code",
   "execution_count": null,
   "metadata": {},
   "outputs": [],
   "source": [
    "name = input('Cual es su nombre?:').title()\n",
    "print(f'Hola {name}')\n",
    "\n",
    "week_day = input('En que dia deseas entrar a la discoteca?: ').lower().strip()\n",
    "time = int(input('A que hora quieres ingresar?: '))\n",
    "age = int(input('Cuantos años tiene: '))\n",
    "\n",
    "if (week_day == 'viernes' or week_day == 'sabado') and (time >= 20) and (age >= 18):\n",
    "    print(f'Bienvenido {name}')\n",
    "\n",
    "elif not (week_day == 'viernes' or week_day == 'sabado'):\n",
    "    print('Hoy la discoteca esta cerrada')\n",
    "\n",
    "elif not (time >= 20):\n",
    "    print(\"Aun no estamos abiertos\")\n",
    "\n",
    "elif not (age >= 18):\n",
    "    print(\"Fuera de aqui menor!\")"
   ]
  },
  {
   "cell_type": "code",
   "execution_count": null,
   "metadata": {},
   "outputs": [],
   "source": [
    "name = input('Cual es su nombre?:').title()\n",
    "print(f'Hola {name}')\n",
    "\n",
    "week_day = input('En que dia deseas entrar a la discoteca?: ').lower().strip()\n",
    "\n",
    "if (week_day == 'viernes') or (week_day == 'sabado'):\n",
    "    print(f'Muy bien, es {week_day}')\n",
    "    time = int(input('A que hora quieres ingresar?: '))\n",
    "\n",
    "    if 25 > time > 19:\n",
    "        print(f'Muy bien, esta en el rango horario indicado')\n",
    "        age = int(input('Cuantos años tiene: '))\n",
    "\n",
    "        if age >= 18:\n",
    "            print(f'Bienvenido {name}, pase adelante')\n",
    "\n",
    "        else:\n",
    "            print('No tiene suficiente edad')\n",
    "\n",
    "    else:\n",
    "        print('La discoteca esta cerrada')\n",
    "\n",
    "else:\n",
    "        print('La discoteca esta cerrada hoy')"
   ]
  },
  {
   "cell_type": "code",
   "execution_count": 47,
   "metadata": {},
   "outputs": [
    {
     "name": "stdout",
     "output_type": "stream",
     "text": [
      "Es fin de semana, vamos a la playa!\n"
     ]
    }
   ],
   "source": [
    "# Condicionales encadenados\n",
    "week_day = input(\"Ingres el dia de la semana: \").lower()\n",
    "\n",
    "if week_day == \"lunes\":\n",
    "    print(f\"{week_day} es el 1er dia de la semana\")\n",
    "\n",
    "elif week_day == \"martes\":\n",
    "    print(f\"{week_day} es el 2do dia de la semana\")\n",
    "\n",
    "elif week_day == \"miercoles\":\n",
    "    print(f\"{week_day} es el 3er dia de la semana\")\n",
    "\n",
    "elif week_day == \"jueves\":\n",
    "    print(f\"{week_day} es el 4to dia de la semana\")\n",
    "\n",
    "elif week_day == \"viernes\":\n",
    "    print(f\"{week_day} es el 5to dia de la semana\")\n",
    "\n",
    "else:\n",
    "    print(f\"Es fin de semana, vamos a la playa!\")"
   ]
  },
  {
   "cell_type": "code",
   "execution_count": 51,
   "metadata": {},
   "outputs": [
    {
     "name": "stdout",
     "output_type": "stream",
     "text": [
      "Por favor, escriba un dia de la semana\n",
      "Por favor, escriba un dia de la semana\n",
      "Por favor, escriba un dia de la semana\n",
      "lunes es el 1er de la semana\n"
     ]
    }
   ],
   "source": [
    "week_dict = {\n",
    "    \"lunes\" : \"1er\",\n",
    "    \"martes\" : \"2do\",\n",
    "    \"miercoles\" : \"3er\",\n",
    "    \"jueves\" : \"4to\",\n",
    "    \"viernes\" : \"5to\",\n",
    "    \"sabado\" : \"6to\",\n",
    "    \"domingo\" : \"7to\"\n",
    "}\n",
    "\n",
    "while True:\n",
    "    try:\n",
    "        week_day = input(\"Ingres el dia de la semana: \").lower()\n",
    "        print(f\"{week_day} es el {week_dict[week_day]} de la semana\")\n",
    "        break\n",
    "    except:\n",
    "        print(\"Por favor, escriba un dia de la semana\")"
   ]
  },
  {
   "cell_type": "markdown",
   "metadata": {},
   "source": [
    "### Ciclos finitos: for"
   ]
  },
  {
   "cell_type": "code",
   "execution_count": 71,
   "metadata": {},
   "outputs": [
    {
     "name": "stdout",
     "output_type": "stream",
     "text": [
      "Lunes\n",
      "Martes\n",
      "Miercoles\n",
      "Jueves\n",
      "Miercoles\n",
      "Sabado\n",
      "Domingo\n"
     ]
    }
   ],
   "source": [
    "week_days = [\"Lunes\", \"Martes\", \"Miercoles\", \"Jueves\", \"Miercoles\", \"Sabado\"]\n",
    "week_days.append(\"Domingo\")\n",
    "\n",
    "for days in week_days:\n",
    "    print(days)"
   ]
  },
  {
   "cell_type": "code",
   "execution_count": 74,
   "metadata": {},
   "outputs": [
    {
     "name": "stdout",
     "output_type": "stream",
     "text": [
      "hoy es Lunes\n"
     ]
    }
   ],
   "source": [
    "week = input('Que dia es hoy')\n",
    "\n",
    "if week in week_days:\n",
    "    print(f\"hoy es {week}\")"
   ]
  },
  {
   "cell_type": "code",
   "execution_count": 80,
   "metadata": {},
   "outputs": [
    {
     "name": "stdout",
     "output_type": "stream",
     "text": [
      "No encontre el papas :(((((\n"
     ]
    }
   ],
   "source": [
    "search = input('Que dia es hoy')\n",
    "\n",
    "for day in week_days:\n",
    "    if day == search:\n",
    "        print(f\"Encontre el {search}!!!\")\n",
    "    else:\n",
    "        print(f\"No encontre el {search} :(((((\")\n",
    "        break\n"
   ]
  },
  {
   "cell_type": "code",
   "execution_count": 1,
   "metadata": {},
   "outputs": [
    {
     "name": "stdout",
     "output_type": "stream",
     "text": [
      "! se paso de alcagueta, pruebe otra vez!\n",
      "! se paso de alcagueta, pruebe otra vez!\n"
     ]
    }
   ],
   "source": [
    "#Piedra papel o tijera\n",
    "\n",
    "user_1 = input(\"Jugador 1, ingrese su nombre: \").title()\n",
    "user_2 = input(\"Jugador 2, ingrese su nombre: \").title()\n",
    "\n",
    "choice_1 = input(f\"{user_1}, elija entre piedra, papel o tijera:\").lower()\n",
    "choice_2 = input(f\"{user_2}, elija entre piedra, papel o tijera:\").lower()\n",
    "\n",
    "if choice_1 == choice_2:\n",
    "    print(f\"{user_1}, {user_2}, los dos perdieron!\")\n",
    "\n",
    "elif choice_1 == \"tijera\":\n",
    "    if choice_2 == \"piedra\":\n",
    "        print(f\"{user_1}, ganaste\")\n",
    "    elif choice_2 == \"papel\":\n",
    "        print(f\"{user_2}, ganaste\")\n",
    "\n",
    "elif choice_1 == \"papel\":\n",
    "    if choice_2 == \"piedra\":\n",
    "        print(f\"{user_1}, ganaste\")\n",
    "    elif choice_2 == \"tijera\":\n",
    "        print(f\"{user_2}, ganaste\")\n",
    "\n",
    "elif choice_1 == \"piedra\":\n",
    "    if choice_2 == \"tijera\":\n",
    "        print(f\"{user_1}, ganaste\")\n",
    "    elif choice_2 == \"papel\":\n",
    "        print(f\"{user_2}, ganaste\")\n",
    "\n",
    "else:\n",
    "    print(\"Aqui nadie es serio\")\n",
    "\n"
   ]
  },
  {
   "cell_type": "code",
   "execution_count": null,
   "metadata": {},
   "outputs": [],
   "source": [
    "# choice_1 = input(f\"{user_1}, elija entre piedra, papel o tijera:\").lower()\n",
    "# choice_2 = input(f\"{user_2}, elija entre piedra, papel o tijera:\").lower()\n",
    "\n",
    "# options = {\n",
    "#     \"tijera\": 1,\n",
    "#     \"piedra\": 2,\n",
    "#     \"papel\": 3\n",
    "# }\n",
    "\n",
    "# if not choice_1 in options:\n",
    "#     print(\"MANCO\")\n",
    "# if not choice_2 in options:\n",
    "#     print(\"Que chad\")\n",
    "    "
   ]
  }
 ],
 "metadata": {
  "kernelspec": {
   "display_name": "Python 3",
   "language": "python",
   "name": "python3"
  },
  "language_info": {
   "codemirror_mode": {
    "name": "ipython",
    "version": 3
   },
   "file_extension": ".py",
   "mimetype": "text/x-python",
   "name": "python",
   "nbconvert_exporter": "python",
   "pygments_lexer": "ipython3",
   "version": "3.12.1"
  }
 },
 "nbformat": 4,
 "nbformat_minor": 2
}
