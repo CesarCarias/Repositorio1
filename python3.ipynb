{
 "cells": [
  {
   "cell_type": "markdown",
   "metadata": {},
   "source": [
    "### Ciclos infinitos\n",
    " - while"
   ]
  },
  {
   "cell_type": "code",
   "execution_count": 4,
   "metadata": {},
   "outputs": [
    {
     "name": "stdout",
     "output_type": "stream",
     "text": [
      "1\n",
      "2\n",
      "3\n",
      "4\n",
      "5\n"
     ]
    }
   ],
   "source": [
    "# presentar los numeros del 1 al 5\n",
    "\n",
    "var1 = 1\n",
    "while var1 <= 5:\n",
    "    print(var1)\n",
    "    var1 += 1"
   ]
  },
  {
   "cell_type": "code",
   "execution_count": 5,
   "metadata": {},
   "outputs": [
    {
     "name": "stdout",
     "output_type": "stream",
     "text": [
      "pruebe otra vez\n",
      "pruebe otra vez\n",
      "lo logro\n"
     ]
    }
   ],
   "source": [
    "while True:\n",
    "    num = int(input(\"pon un numero positivo:\"))\n",
    "    if num >= 0:\n",
    "        print(\"lo logro\")\n",
    "        break\n",
    "    else:\n",
    "        print(\"pruebe otra vez\")"
   ]
  }
 ],
 "metadata": {
  "kernelspec": {
   "display_name": "Python 3",
   "language": "python",
   "name": "python3"
  },
  "language_info": {
   "codemirror_mode": {
    "name": "ipython",
    "version": 3
   },
   "file_extension": ".py",
   "mimetype": "text/x-python",
   "name": "python",
   "nbconvert_exporter": "python",
   "pygments_lexer": "ipython3",
   "version": "3.12.1"
  }
 },
 "nbformat": 4,
 "nbformat_minor": 2
}
