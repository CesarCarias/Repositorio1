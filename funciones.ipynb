{
 "cells": [
  {
   "cell_type": "code",
   "execution_count": 1,
   "metadata": {},
   "outputs": [
    {
     "name": "stdout",
     "output_type": "stream",
     "text": [
      "hola Benson\n"
     ]
    }
   ],
   "source": [
    "def hello(name):\n",
    "    \"\"\"\n",
    "    Funcion para saludar a\n",
    "    la gente por su nombre\n",
    "    \"\"\"\n",
    "    print(f\"hola {name}\")\n",
    "\n",
    "name = input(\"Cual es tu nombre\").title()\n",
    "hello(name)"
   ]
  },
  {
   "cell_type": "code",
   "execution_count": 8,
   "metadata": {},
   "outputs": [
    {
     "data": {
      "text/plain": [
       "0.5"
      ]
     },
     "execution_count": 8,
     "metadata": {},
     "output_type": "execute_result"
    }
   ],
   "source": [
    "def divide(n1, n2):\n",
    "    \"\"\"\n",
    "    Funcion para dividir dos numeros\n",
    "    n1: primer numero - dividendo\n",
    "    n2: segundo numero - divisor\n",
    "\n",
    "    Ejemplo: divide(10, 5)\n",
    "    resultado:  2.0\n",
    "    \"\"\"\n",
    "    return n1 / n2\n",
    "\n",
    "divide(5, 10)"
   ]
  }
 ],
 "metadata": {
  "kernelspec": {
   "display_name": "Python 3",
   "language": "python",
   "name": "python3"
  },
  "language_info": {
   "codemirror_mode": {
    "name": "ipython",
    "version": 3
   },
   "file_extension": ".py",
   "mimetype": "text/x-python",
   "name": "python",
   "nbconvert_exporter": "python",
   "pygments_lexer": "ipython3",
   "version": "3.12.1"
  }
 },
 "nbformat": 4,
 "nbformat_minor": 2
}
